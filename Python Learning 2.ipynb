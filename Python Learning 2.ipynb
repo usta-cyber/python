{
 "cells": [
  {
   "cell_type": "markdown",
   "id": "70c6fae2",
   "metadata": {},
   "source": [
    "# condition control statment\n",
    "### If-Else statments\n",
    "#### user for decision making "
   ]
  },
  {
   "cell_type": "code",
   "execution_count": 1,
   "id": "0e59836b",
   "metadata": {},
   "outputs": [
    {
     "name": "stdout",
     "output_type": "stream",
     "text": [
      "A and B are not Equal\n"
     ]
    }
   ],
   "source": [
    "# simple if-else statments\n",
    "a=7\n",
    "b=8\n",
    "if a==b:\n",
    "    print('A and B are Equal')\n",
    "else:\n",
    "    print('A and B are not Equal')"
   ]
  },
  {
   "cell_type": "code",
   "execution_count": 2,
   "id": "35cf9c4b",
   "metadata": {},
   "outputs": [
    {
     "name": "stdout",
     "output_type": "stream",
     "text": [
      "B is Greater then A\n"
     ]
    }
   ],
   "source": [
    "# if and else if\n",
    "if a==b:\n",
    "    print('A and B are Equal')\n",
    "elif a>b:\n",
    "    print('A is greater then B')\n",
    "else:\n",
    "    print('B is Greater then A')\n",
    "    "
   ]
  },
  {
   "cell_type": "markdown",
   "id": "243b45cb",
   "metadata": {},
   "source": [
    "#### else if with tuple"
   ]
  },
  {
   "cell_type": "code",
   "execution_count": 3,
   "id": "7c973f95",
   "metadata": {},
   "outputs": [
    {
     "name": "stdout",
     "output_type": "stream",
     "text": [
      "Yes, a is present in tuple\n"
     ]
    }
   ],
   "source": [
    "# if-else with Tuple\n",
    "tup=('a','b','c','d','e')\n",
    "if 'a' in tup:\n",
    "    print('Yes, a is present in tuple')\n",
    "else:\n",
    "    print('No, a is not Tuple')"
   ]
  },
  {
   "cell_type": "markdown",
   "id": "68b49e0f",
   "metadata": {},
   "source": [
    "#### If statments with List"
   ]
  },
  {
   "cell_type": "code",
   "execution_count": 16,
   "id": "4f8e5129",
   "metadata": {},
   "outputs": [
    {
     "name": "stdout",
     "output_type": "stream",
     "text": [
      "[1, 2, 3, 4, 5]\n",
      "No, 9 is not in a list\n"
     ]
    }
   ],
   "source": [
    "lis=[1,2,3,4,5]\n",
    "print(lis)\n",
    "if 9 in lis :\n",
    "    print('Yes 9 is present in list')\n",
    "else:\n",
    "    print('No, 9 is not in a list')"
   ]
  },
  {
   "cell_type": "code",
   "execution_count": 17,
   "id": "b8441ef3",
   "metadata": {},
   "outputs": [
    {
     "name": "stdout",
     "output_type": "stream",
     "text": [
      "List is updated [10, 2, 3, 4, 5]\n"
     ]
    }
   ],
   "source": [
    "if lis[0]==1:\n",
    "    lis[0]=10\n",
    "    print('List is updated',lis)"
   ]
  },
  {
   "cell_type": "markdown",
   "id": "37e14f25",
   "metadata": {},
   "source": [
    "#### if statments with Dictionary"
   ]
  },
  {
   "cell_type": "code",
   "execution_count": 20,
   "id": "c4d947d8",
   "metadata": {},
   "outputs": [
    {
     "name": "stdout",
     "output_type": "stream",
     "text": [
      "Dic= {0: 'A', 1: 'B', 2: 'C'}\n",
      "Key value pair matched\n"
     ]
    }
   ],
   "source": [
    "dic={0:'A',1:'B',2:'C'}\n",
    "print('Dic=',dic)\n",
    "if dic[0]=='A':\n",
    "    print('Key value pair matched')\n",
    "else:\n",
    "    print('Key value pair Miss Matched')"
   ]
  },
  {
   "cell_type": "code",
   "execution_count": null,
   "id": "f16511f3",
   "metadata": {},
   "outputs": [],
   "source": []
  }
 ],
 "metadata": {
  "kernelspec": {
   "display_name": "Python 3",
   "language": "python",
   "name": "python3"
  },
  "language_info": {
   "codemirror_mode": {
    "name": "ipython",
    "version": 3
   },
   "file_extension": ".py",
   "mimetype": "text/x-python",
   "name": "python",
   "nbconvert_exporter": "python",
   "pygments_lexer": "ipython3",
   "version": "3.8.8"
  }
 },
 "nbformat": 4,
 "nbformat_minor": 5
}
