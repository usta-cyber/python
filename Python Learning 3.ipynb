{
 "cells": [
  {
   "cell_type": "markdown",
   "id": "37503eb4",
   "metadata": {},
   "source": [
    "# Python Learning 3 "
   ]
  },
  {
   "cell_type": "markdown",
   "id": "e42d9b4e",
   "metadata": {},
   "source": [
    "\n",
    "# Task 1:If-Else Implementation"
   ]
  },
  {
   "cell_type": "code",
   "execution_count": 1,
   "id": "1ec4f5be",
   "metadata": {},
   "outputs": [
    {
     "name": "stdout",
     "output_type": "stream",
     "text": [
      "a is greater than b\n"
     ]
    }
   ],
   "source": [
    "a=5\n",
    "b=2\n",
    "if(a>b):\n",
    "    print('a is greater than b')\n",
    "elif(a<b):\n",
    "    print('a is less than b ')\n",
    "else:\n",
    "    print('a and b are equal')"
   ]
  },
  {
   "cell_type": "markdown",
   "id": "61110fd2",
   "metadata": {},
   "source": [
    "# Task 2:If-Else with User Input"
   ]
  },
  {
   "cell_type": "code",
   "execution_count": 4,
   "id": "319fbe54",
   "metadata": {},
   "outputs": [
    {
     "name": "stdout",
     "output_type": "stream",
     "text": [
      "Enter value of a :5\n",
      "Enter value of b :5\n",
      "a and b are equal\n"
     ]
    }
   ],
   "source": [
    "a=int(input('Enter value of a :'))\n",
    "b=int(input('Enter value of b :'))\n",
    "if(a>b):\n",
    "    print('a is greater than b')\n",
    "elif(a<b):\n",
    "    print('a is less than b ')\n",
    "else:\n",
    "    print('a and b are equal')"
   ]
  },
  {
   "cell_type": "markdown",
   "id": "0a539adc",
   "metadata": {},
   "source": [
    "# Task 3: For Loop Implementation over string"
   ]
  },
  {
   "cell_type": "code",
   "execution_count": 11,
   "id": "e6c6ce1a",
   "metadata": {},
   "outputs": [
    {
     "name": "stdout",
     "output_type": "stream",
     "text": [
      "Implementing for loop :\n",
      "P\n",
      "Y\n",
      "T\n",
      "H\n",
      "O\n",
      "N\n",
      "\n",
      "\n",
      "Removing Newline from print statement : \n",
      "PYTHON\n",
      "\n",
      "Adding different characters/symbol in print statement : \n",
      "P*Y*T*H*O*N*"
     ]
    }
   ],
   "source": [
    "print(\"Implementing for loop :\")\n",
    "for i in \"PYTHON\":\n",
    "    print(i)\n",
    "print(\"\\n\\nRemoving Newline from print statement : \")\n",
    "for i in \"PYTHON\":\n",
    "    print(i,end='')\n",
    "print(\"\\n\\nAdding different characters/symbol in print statement : \")\n",
    "for i in \"PYTHON\":\n",
    "    print(i,end='*')"
   ]
  },
  {
   "cell_type": "markdown",
   "id": "728f7bbb",
   "metadata": {},
   "source": [
    "# Task 4: For Loop implmention over Lists"
   ]
  },
  {
   "cell_type": "code",
   "execution_count": 12,
   "id": "d70bdb37",
   "metadata": {},
   "outputs": [
    {
     "name": "stdout",
     "output_type": "stream",
     "text": [
      "Implementing for loop with list :\n",
      "1\n",
      "4\n",
      "5\n",
      "6\n",
      "8\n",
      "\n",
      "\n",
      "Removing Newline from print statement : \n",
      "14568\n",
      "\n",
      "Adding different characters/symbol in print statement : \n",
      "1,4,5,6,8,"
     ]
    }
   ],
   "source": [
    "list=[1,4,5,6,8]\n",
    "print(\"Implementing for loop with list :\")\n",
    "for i in list:\n",
    "    print(i)\n",
    "print(\"\\n\\nRemoving Newline from print statement : \")\n",
    "for i in list:\n",
    "    print(i,end='')\n",
    "print(\"\\n\\nAdding different characters/symbol in print statement : \")\n",
    "for i in list:\n",
    "    print(i,end=',')"
   ]
  },
  {
   "cell_type": "markdown",
   "id": "9742712d",
   "metadata": {},
   "source": [
    "# Task 5:For Loop implmention with range function\n"
   ]
  },
  {
   "cell_type": "code",
   "execution_count": 14,
   "id": "e7659bb2",
   "metadata": {},
   "outputs": [
    {
     "name": "stdout",
     "output_type": "stream",
     "text": [
      "Print counting 1-10 by using for loop\n",
      "1\n",
      "2\n",
      "3\n",
      "4\n",
      "5\n",
      "6\n",
      "7\n",
      "8\n",
      "9\n",
      "10\n",
      "\n",
      "Changing stepsize to 3\n",
      "1\n",
      "4\n",
      "7\n",
      "10\n"
     ]
    }
   ],
   "source": [
    "print(\"Print counting 1-10 by using for loop\")\n",
    "for i in range(1,11):\n",
    "        print(i)\n",
    "#steps size =2\n",
    "print(\"\\nChanging stepsize to 3\")\n",
    "for i in range(1,11,3):\n",
    "        print(i)"
   ]
  },
  {
   "cell_type": "markdown",
   "id": "2c51e3d5",
   "metadata": {},
   "source": [
    "# Task 6: Table printing using For loop"
   ]
  },
  {
   "cell_type": "code",
   "execution_count": 25,
   "id": "f711acab",
   "metadata": {
    "scrolled": true
   },
   "outputs": [
    {
     "name": "stdout",
     "output_type": "stream",
     "text": [
      "Enter the number for which you want to print table : 4\n",
      "4  x  1  =  4\n",
      "4  x  2  =  8\n",
      "4  x  3  =  12\n",
      "4  x  4  =  16\n",
      "4  x  5  =  20\n",
      "4  x  6  =  24\n",
      "4  x  7  =  28\n",
      "4  x  8  =  32\n",
      "4  x  9  =  36\n",
      "4  x  10  =  40\n"
     ]
    }
   ],
   "source": [
    "a=int(input('Enter the number for which you want to print table : '))\n",
    "for i in range(1,11):\n",
    "    print(a,\" x \",i,\" = \",a*i)"
   ]
  },
  {
   "cell_type": "markdown",
   "id": "a0575e6d",
   "metadata": {},
   "source": [
    "# Task 7:For Loop implmention with Dictionaries\n"
   ]
  },
  {
   "cell_type": "code",
   "execution_count": 15,
   "id": "d76b097e",
   "metadata": {},
   "outputs": [
    {
     "name": "stdout",
     "output_type": "stream",
     "text": [
      "Artifical\n",
      "Intelligence\n",
      "2021\n"
     ]
    }
   ],
   "source": [
    "#print keys\n",
    "mydict={ \"Artifical\" : \"made or produced by human beings rather than occurring naturally, especially as a copy of something natural\",\n",
    " \"Intelligence\" : \"the ability to acquire and apply knowledge and skills.\",\n",
    " 2021:\"The current year\"\n",
    "}\n",
    "for i in mydict:\n",
    "    print(i)"
   ]
  },
  {
   "cell_type": "markdown",
   "id": "96533520",
   "metadata": {},
   "source": [
    "# Task 8"
   ]
  },
  {
   "cell_type": "code",
   "execution_count": 29,
   "id": "8d6ae694",
   "metadata": {},
   "outputs": [
    {
     "name": "stdout",
     "output_type": "stream",
     "text": [
      "made or produced by human beings rather than occurring naturally, especially as a copy of something natural\n",
      "the ability to acquire and apply knowledge and skills.\n",
      "The current year\n"
     ]
    }
   ],
   "source": [
    "#print values\n",
    "mydict={ \"Artifical\" : \"made or produced by human beings rather than occurring naturally, especially as a copy of something natural\",\n",
    " \"Intelligence\" : \"the ability to acquire and apply knowledge and skills.\",\n",
    " 2021:\"The current year\"\n",
    "}\n",
    "for i in mydict:\n",
    "    print(mydict[i])"
   ]
  },
  {
   "cell_type": "markdown",
   "id": "d1447871",
   "metadata": {},
   "source": [
    "# Task 9"
   ]
  },
  {
   "cell_type": "code",
   "execution_count": 20,
   "id": "db071897",
   "metadata": {},
   "outputs": [
    {
     "name": "stdout",
     "output_type": "stream",
     "text": [
      "Artifical  :  made or produced by human beings rather than occurring naturally, especially as a copy of something natural\n",
      "Intelligence  :  the ability to acquire and apply knowledge and skills.\n",
      "2021  :  The current year\n"
     ]
    }
   ],
   "source": [
    "#print complete dictionary\n",
    "mydict={ \"Artifical\" : \"made or produced by human beings rather than occurring naturally, especially as a copy of something natural\",\n",
    " \"Intelligence\" : \"the ability to acquire and apply knowledge and skills.\",\n",
    " 2021:\"The current year\"\n",
    "}\n",
    "for i in mydict:\n",
    "    print(i,\" : \",mydict[i])"
   ]
  },
  {
   "cell_type": "markdown",
   "id": "7df6fbd5",
   "metadata": {},
   "source": [
    "# Task 10"
   ]
  },
  {
   "cell_type": "code",
   "execution_count": 1,
   "id": "669825ed",
   "metadata": {},
   "outputs": [
    {
     "name": "stdout",
     "output_type": "stream",
     "text": [
      "2,4,6,8,10,12,14,16,18,20,22,24,26,28,30,32,34,36,38,40,42,44,46,48,50,52,54,56,58,60,62,64,66,68,70,72,74,76,78,80,82,84,86,88,90,92,94,96,98,100,"
     ]
    }
   ],
   "source": [
    "for i in range(1,101):\n",
    "    if(i%2==0):\n",
    "        print(i,end=\",\")"
   ]
  },
  {
   "cell_type": "markdown",
   "id": "5ff16840",
   "metadata": {},
   "source": [
    "# Task 11"
   ]
  },
  {
   "cell_type": "code",
   "execution_count": 4,
   "id": "2bdfc4a6",
   "metadata": {
    "scrolled": false
   },
   "outputs": [
    {
     "name": "stdout",
     "output_type": "stream",
     "text": [
      "6,16,26,36,46,56,66,76,86,96,\n",
      "No. of even numbers in the given range are :  10\n"
     ]
    }
   ],
   "source": [
    "count =0\n",
    "for i in range(1,101,5):\n",
    "    if(i%2==0):\n",
    "        print(i,end=\",\")\n",
    "        count=count+1\n",
    "print(\"\\nNo. of even numbers in the given range are : \",count)"
   ]
  },
  {
   "cell_type": "markdown",
   "id": "c1fec3b7",
   "metadata": {},
   "source": [
    "# Task 12"
   ]
  },
  {
   "cell_type": "code",
   "execution_count": 2,
   "id": "084fdfe2",
   "metadata": {
    "scrolled": true
   },
   "outputs": [
    {
     "name": "stdout",
     "output_type": "stream",
     "text": [
      "Enter the element : 1\n",
      "Enter the element : 2\n",
      "Enter the element : 3\n",
      "Enter the element : 4\n",
      "Enter the element : 5\n",
      "Enter the element : 6\n",
      "Enter the element : 7\n",
      "Enter the element : 8\n",
      "Enter the element : 9\n",
      "Enter the element : 10\n",
      "[1, 2, 3, 4, 5, 6, 7, 8, 9, 10]\n"
     ]
    }
   ],
   "source": [
    "lis=[]\n",
    "for i in range(1,11):\n",
    "    a=int(input(\"Enter the element : \"))\n",
    "    lis.append(a)\n",
    "print(lis)"
   ]
  },
  {
   "cell_type": "markdown",
   "id": "5b45487a",
   "metadata": {},
   "source": [
    "# Task 13: While Loop Implmentation"
   ]
  },
  {
   "cell_type": "code",
   "execution_count": 22,
   "id": "6305ee21",
   "metadata": {},
   "outputs": [
    {
     "name": "stdout",
     "output_type": "stream",
     "text": [
      "0\n",
      "1\n",
      "2\n",
      "3\n",
      "4\n",
      "5\n",
      "6\n",
      "7\n",
      "8\n",
      "9\n"
     ]
    }
   ],
   "source": [
    "i=0\n",
    "while(i<10):\n",
    "    print(i)\n",
    "    i=i+1"
   ]
  },
  {
   "cell_type": "markdown",
   "id": "22296245",
   "metadata": {},
   "source": [
    "# Task 14: Find Maximum value in a list using while loop"
   ]
  },
  {
   "cell_type": "code",
   "execution_count": 3,
   "id": "27d0ba8a",
   "metadata": {},
   "outputs": [
    {
     "name": "stdout",
     "output_type": "stream",
     "text": [
      "Enter the element : 1\n",
      "Enter the element : 2\n",
      "Enter the element : 3\n",
      "Enter the element : 4\n",
      "Enter the element : 9\n",
      "Enter the element : 5\n",
      "Enter the element : 6\n",
      "Enter the element : 7\n",
      "Enter the element : 8\n",
      "Enter the element : 1\n",
      "The greatest number amongst the list is :  9\n"
     ]
    }
   ],
   "source": [
    "lis=[]\n",
    "i=0\n",
    "j=1\n",
    "while (i<10):\n",
    "    a=int(input(\"Enter the element : \"))\n",
    "    lis.append(a)\n",
    "    i=i+1\n",
    "maxi=lis[0]\n",
    "while (j<10):\n",
    "    if(maxi<lis[j]):\n",
    "        maxi=lis[j]\n",
    "    j=j+1\n",
    "print(\"The greatest number amongst the list is : \",maxi)"
   ]
  },
  {
   "cell_type": "markdown",
   "id": "9cd3f290",
   "metadata": {},
   "source": [
    "# Task 15:Functions"
   ]
  },
  {
   "cell_type": "code",
   "execution_count": 23,
   "id": "6a41c8fb",
   "metadata": {},
   "outputs": [],
   "source": [
    "#def func_name (parameters):\n",
    "   #return \n",
    "def function_name():\n",
    "    print(\"function of printing\")\n",
    "    return"
   ]
  },
  {
   "cell_type": "code",
   "execution_count": 24,
   "id": "180298d8",
   "metadata": {},
   "outputs": [
    {
     "name": "stdout",
     "output_type": "stream",
     "text": [
      "function of printing\n"
     ]
    }
   ],
   "source": [
    "function_name()"
   ]
  },
  {
   "cell_type": "markdown",
   "id": "df37643f",
   "metadata": {},
   "source": [
    "# Task 16"
   ]
  },
  {
   "cell_type": "code",
   "execution_count": 25,
   "id": "b15b2a64",
   "metadata": {},
   "outputs": [],
   "source": [
    "def function_name1(a,b):\n",
    "    print(\"Sum\",a+b)\n",
    "    return"
   ]
  },
  {
   "cell_type": "code",
   "execution_count": 26,
   "id": "86d11196",
   "metadata": {},
   "outputs": [
    {
     "name": "stdout",
     "output_type": "stream",
     "text": [
      "Sum 5\n"
     ]
    }
   ],
   "source": [
    "function_name1(3,2)"
   ]
  },
  {
   "cell_type": "markdown",
   "id": "b9030115",
   "metadata": {},
   "source": [
    "# Task 17:write a function that return sum of 2 numbers"
   ]
  },
  {
   "cell_type": "code",
   "execution_count": 27,
   "id": "01c7de08",
   "metadata": {},
   "outputs": [],
   "source": [
    "def function_name1(a,b):\n",
    "    return a+b"
   ]
  },
  {
   "cell_type": "code",
   "execution_count": 28,
   "id": "288c0c7a",
   "metadata": {},
   "outputs": [
    {
     "data": {
      "text/plain": [
       "5"
      ]
     },
     "execution_count": 28,
     "metadata": {},
     "output_type": "execute_result"
    }
   ],
   "source": [
    "function_name1(3,2)"
   ]
  },
  {
   "cell_type": "markdown",
   "id": "8f4c0d71",
   "metadata": {},
   "source": [
    "# Task 18"
   ]
  },
  {
   "cell_type": "code",
   "execution_count": 10,
   "id": "3976c7ca",
   "metadata": {},
   "outputs": [
    {
     "data": {
      "text/plain": [
       "5"
      ]
     },
     "execution_count": 10,
     "metadata": {},
     "output_type": "execute_result"
    }
   ],
   "source": [
    "function_name1(a=3,b=2)"
   ]
  },
  {
   "cell_type": "markdown",
   "id": "5c8e504f",
   "metadata": {},
   "source": [
    "# Task 19"
   ]
  },
  {
   "cell_type": "code",
   "execution_count": 32,
   "id": "e55b4293",
   "metadata": {},
   "outputs": [],
   "source": [
    "def function_name1(a=1,b=1):\n",
    "    print(\"Sum\",a+b)\n",
    "    return"
   ]
  },
  {
   "cell_type": "code",
   "execution_count": 33,
   "id": "8bc97958",
   "metadata": {},
   "outputs": [
    {
     "name": "stdout",
     "output_type": "stream",
     "text": [
      "Sum 4\n"
     ]
    }
   ],
   "source": [
    "function_name1(a=3)"
   ]
  },
  {
   "cell_type": "code",
   "execution_count": 34,
   "id": "8babce5c",
   "metadata": {},
   "outputs": [
    {
     "name": "stdout",
     "output_type": "stream",
     "text": [
      "Sum 5\n"
     ]
    }
   ],
   "source": [
    "function_name1(b=4)"
   ]
  },
  {
   "cell_type": "markdown",
   "id": "980b7948",
   "metadata": {},
   "source": [
    "# Task 20"
   ]
  },
  {
   "cell_type": "code",
   "execution_count": 35,
   "id": "772b7474",
   "metadata": {},
   "outputs": [
    {
     "name": "stdout",
     "output_type": "stream",
     "text": [
      "4\n"
     ]
    }
   ],
   "source": [
    "#lamda function mean anonymous functions\n",
    "a=lambda x:x**2\n",
    "print(a(2))"
   ]
  },
  {
   "cell_type": "markdown",
   "id": "b6de95ba",
   "metadata": {},
   "source": [
    "# Task 21"
   ]
  },
  {
   "cell_type": "code",
   "execution_count": 22,
   "id": "2ce018c2",
   "metadata": {},
   "outputs": [
    {
     "name": "stdout",
     "output_type": "stream",
     "text": [
      "8\n"
     ]
    }
   ],
   "source": [
    "a=lambda x,y:x**y\n",
    "print(a(2,3))"
   ]
  },
  {
   "cell_type": "markdown",
   "id": "686b69a6",
   "metadata": {},
   "source": [
    "# Task 22"
   ]
  },
  {
   "cell_type": "code",
   "execution_count": 41,
   "id": "e9aaf3b9",
   "metadata": {},
   "outputs": [],
   "source": [
    "def func(n):\n",
    "    return lambda n:n*2"
   ]
  },
  {
   "cell_type": "code",
   "execution_count": 42,
   "id": "f001e45b",
   "metadata": {},
   "outputs": [
    {
     "name": "stdout",
     "output_type": "stream",
     "text": [
      "20\n"
     ]
    }
   ],
   "source": [
    "a=func(2)\n",
    "print(a(10))"
   ]
  },
  {
   "cell_type": "code",
   "execution_count": null,
   "id": "af161b0a",
   "metadata": {},
   "outputs": [],
   "source": []
  },
  {
   "cell_type": "code",
   "execution_count": null,
   "id": "2a29dfc3",
   "metadata": {},
   "outputs": [],
   "source": []
  },
  {
   "cell_type": "code",
   "execution_count": null,
   "id": "6b25786d",
   "metadata": {},
   "outputs": [],
   "source": []
  }
 ],
 "metadata": {
  "kernelspec": {
   "display_name": "Python 3 (ipykernel)",
   "language": "python",
   "name": "python3"
  },
  "language_info": {
   "codemirror_mode": {
    "name": "ipython",
    "version": 3
   },
   "file_extension": ".py",
   "mimetype": "text/x-python",
   "name": "python",
   "nbconvert_exporter": "python",
   "pygments_lexer": "ipython3",
   "version": "3.9.12"
  }
 },
 "nbformat": 4,
 "nbformat_minor": 5
}
