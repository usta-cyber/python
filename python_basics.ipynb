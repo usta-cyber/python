{
 "cells": [
  {
   "cell_type": "markdown",
   "metadata": {},
   "source": [
    "# python basic "
   ]
  },
  {
   "cell_type": "code",
   "execution_count": 5,
   "metadata": {},
   "outputs": [],
   "source": [
    "#data printing"
   ]
  },
  {
   "cell_type": "code",
   "execution_count": 6,
   "metadata": {},
   "outputs": [
    {
     "name": "stdout",
     "output_type": "stream",
     "text": [
      "My learning\n"
     ]
    }
   ],
   "source": [
    "print(\"My learning\")"
   ]
  },
  {
   "cell_type": "code",
   "execution_count": 7,
   "metadata": {},
   "outputs": [
    {
     "name": "stdout",
     "output_type": "stream",
     "text": [
      "My learning with single qout\n"
     ]
    }
   ],
   "source": [
    "print('My learning with single qout')"
   ]
  },
  {
   "cell_type": "code",
   "execution_count": 8,
   "metadata": {},
   "outputs": [
    {
     "data": {
      "text/plain": [
       "int"
      ]
     },
     "execution_count": 8,
     "metadata": {},
     "output_type": "execute_result"
    }
   ],
   "source": [
    "a=5\n",
    "type(a)"
   ]
  },
  {
   "cell_type": "code",
   "execution_count": 9,
   "metadata": {},
   "outputs": [
    {
     "data": {
      "text/plain": [
       "complex"
      ]
     },
     "execution_count": 9,
     "metadata": {},
     "output_type": "execute_result"
    }
   ],
   "source": [
    "compl=2+7j\n",
    "type(compl)"
   ]
  },
  {
   "cell_type": "code",
   "execution_count": 11,
   "metadata": {},
   "outputs": [
    {
     "name": "stdout",
     "output_type": "stream",
     "text": [
      "my data type is: <class 'float'>\n"
     ]
    }
   ],
   "source": [
    "flt_no=5.66\n",
    "print('my data type is:',type(flt_no))"
   ]
  },
  {
   "cell_type": "code",
   "execution_count": 12,
   "metadata": {},
   "outputs": [],
   "source": [
    "#basic arthimatic operaations"
   ]
  },
  {
   "cell_type": "markdown",
   "metadata": {},
   "source": [
    "a=5\n",
    "b=2.5\n",
    "mul=a*b\n",
    "print(mul)\n",
    "\n",
    "#power of a number\n",
    "mul2=2**3\n",
    "print(mul2)"
   ]
  },
  {
   "cell_type": "code",
   "execution_count": 17,
   "metadata": {},
   "outputs": [
    {
     "name": "stdout",
     "output_type": "stream",
     "text": [
      "0.8333333333333333\n"
     ]
    }
   ],
   "source": [
    "#divide operation\n",
    "a=7\n",
    "b=8.4\n",
    "div=a/b\n",
    "print(div)\n"
   ]
  },
  {
   "cell_type": "code",
   "execution_count": 20,
   "metadata": {},
   "outputs": [
    {
     "name": "stdout",
     "output_type": "stream",
     "text": [
      "3\n"
     ]
    }
   ],
   "source": [
    "#divide with round value\n",
    "a=7\n",
    "b=2\n",
    "div=a//b\n",
    "print(div)\n"
   ]
  },
  {
   "cell_type": "code",
   "execution_count": 23,
   "metadata": {},
   "outputs": [
    {
     "data": {
      "text/plain": [
       "1"
      ]
     },
     "execution_count": 23,
     "metadata": {},
     "output_type": "execute_result"
    }
   ],
   "source": [
    "#reminder of a value\n",
    "a=11\n",
    "result=a%2\n",
    "result"
   ]
  },
  {
   "cell_type": "code",
   "execution_count": 25,
   "metadata": {},
   "outputs": [
    {
     "name": "stdout",
     "output_type": "stream",
     "text": [
      "11\n",
      "11\n"
     ]
    }
   ],
   "source": [
    "#addition of a number\n",
    "a=5\n",
    "b=6\n",
    "add=a+b\n",
    "print(add)\n",
    "add1=a++b\n",
    "print(add1)"
   ]
  },
  {
   "cell_type": "code",
   "execution_count": 27,
   "metadata": {},
   "outputs": [
    {
     "name": "stdout",
     "output_type": "stream",
     "text": [
      "-1.5 type of variable <class 'float'>\n"
     ]
    }
   ],
   "source": [
    "#subtraction of a numbers\n",
    "a=8\n",
    "b=9.5\n",
    "res=a-b\n",
    "print(res,'type of variable',type(res))"
   ]
  },
  {
   "cell_type": "code",
   "execution_count": 32,
   "metadata": {},
   "outputs": [
    {
     "name": "stdout",
     "output_type": "stream",
     "text": [
      "tajummal\n",
      "tajummalhussain\n"
     ]
    }
   ],
   "source": [
    "#string operration\n",
    "myname='tajummal'\n",
    "print(myname)\n",
    "\n",
    "#string concatination\n",
    "mysecondname='hussain'\n",
    "myfullname=myname+mysecondname\n",
    "print(myfullname)"
   ]
  },
  {
   "cell_type": "code",
   "execution_count": 48,
   "metadata": {
    "scrolled": true
   },
   "outputs": [
    {
     "name": "stdout",
     "output_type": "stream",
     "text": [
      "True\n",
      "True\n",
      "False\n"
     ]
    }
   ],
   "source": [
    "#logical operators\n",
    "# &,|\n",
    "a=True\n",
    "b=True\n",
    "c=False\n",
    "print(a&b)\n",
    "print(a|b)\n",
    "print(c&b)"
   ]
  },
  {
   "cell_type": "code",
   "execution_count": 55,
   "metadata": {},
   "outputs": [
    {
     "name": "stdout",
     "output_type": "stream",
     "text": [
      "Enter Your Nametajummal hussain\n",
      "you enter: tajummal hussain\n",
      "<class 'str'>\n"
     ]
    }
   ],
   "source": [
    "#geting data from user\n",
    "get_data=input('Enter Your Name')\n",
    "print ('you enter:',get_data)\n",
    "print(type(get_data))"
   ]
  },
  {
   "cell_type": "code",
   "execution_count": 54,
   "metadata": {},
   "outputs": [
    {
     "name": "stdout",
     "output_type": "stream",
     "text": [
      "tajummal\n",
      "abbass\n",
      "mughal\n",
      "\n"
     ]
    }
   ],
   "source": [
    "#multiline String using \"\"\" triple qoutes\"\"\"\n",
    "str =\"\"\"tajummal\n",
    "abbass\n",
    "mughal\n",
    "\"\"\"\n",
    "print(str)"
   ]
  },
  {
   "cell_type": "code",
   "execution_count": 72,
   "metadata": {},
   "outputs": [
    {
     "name": "stdout",
     "output_type": "stream",
     "text": [
      "t\n",
      "n\n",
      "tajum\n",
      "tajum\n",
      "ajum\n",
      "16\n",
      "tajummal hussain\n",
      "TAJUMMAL HUSSAIN\n",
      "tujummul hussuin\n",
      "3\n",
      "2\n",
      "['tajummal', 'hussain']\n"
     ]
    }
   ],
   "source": [
    "#string manipulation\n",
    "a=\"tajummal hussain\"\n",
    "#getting first char from a\n",
    "print(a[0])\n",
    "\n",
    "#getting last char from a\n",
    "print(a[-1])\n",
    "\n",
    "#getting substring from a\n",
    "print(a[:5])\n",
    "print(a[0:5])\n",
    "print(a[1:5])\n",
    "\n",
    "#getting length of string\n",
    "print(len(a))\n",
    "\n",
    "#get lower case string\n",
    "print(a.lower())\n",
    "\n",
    "#get upper case string\n",
    "print(a.upper())\n",
    "\n",
    "#char replace in a string\n",
    "print(a.replace('a','u'))\n",
    "\n",
    "#count char or string in a string\n",
    "print(a.count('a'))\n",
    "\n",
    "#finding index of a char or sub string\n",
    "print(a.find('j'))\n",
    "\n",
    "#splitting of string using split criteria\n",
    "print(a.split(' '))"
   ]
  },
  {
   "cell_type": "markdown",
   "metadata": {},
   "source": [
    "# Data Structures in PYTHON\n",
    "### Tuple, Lists, Dictionary, Sets"
   ]
  },
  {
   "cell_type": "code",
   "execution_count": 73,
   "metadata": {},
   "outputs": [],
   "source": [
    "#Tuple : order lolection of data, enclosed within round (), immutable"
   ]
  },
  {
   "cell_type": "code",
   "execution_count": 84,
   "metadata": {},
   "outputs": [
    {
     "name": "stdout",
     "output_type": "stream",
     "text": [
      "('a', 1, True)\n",
      "<class 'tuple'>\n",
      "a\n",
      "True\n",
      "('a', 1)\n",
      "3\n",
      "('a', 1, True, 'str', 8, True)\n",
      "('a', 1, True, 'a', 1, True)\n",
      "(5, 7, 8, 6) 5 8\n"
     ]
    }
   ],
   "source": [
    "#tuple can store multidata type\n",
    "tup=('a',1,True)\n",
    "tup1=('str',8,True)\n",
    "print(tup)\n",
    "print(type(tup))\n",
    "\n",
    "#extracting first element in tuple\n",
    "print(tup[0])\n",
    "\n",
    "#extracting last element\n",
    "print (tup[-1])\n",
    "\n",
    "#extracting samples\n",
    "print(tup[:2])\n",
    "\n",
    "#extracting length\n",
    "print(len(tup))\n",
    "\n",
    "#tuples contatination\n",
    "print(tup+tup1)\n",
    "\n",
    "#repeatition of tuple\n",
    "print(tup*2)\n",
    "\n",
    "#find minimum and maximum values in tuple\n",
    "tup2=(5,7,8,6)\n",
    "print(tup2,min(tup2),max(tup2))"
   ]
  },
  {
   "cell_type": "markdown",
   "metadata": {},
   "source": [
    "# Lists\n",
    "data strtructure\n",
    "list:order collection of data \n",
    "enclosed in square braces []\n",
    "mutable:changeable data"
   ]
  },
  {
   "cell_type": "code",
   "execution_count": 99,
   "metadata": {},
   "outputs": [
    {
     "name": "stdout",
     "output_type": "stream",
     "text": [
      "[1, 'tajummal', 24, True]\n",
      "<class 'list'>\n",
      "1 True\n",
      "4\n",
      "[1, 'tajummal', 24, True, 'Islamabad']\n",
      "[1, 'tajummal', 24, True, 'Islamabad']\n",
      "[1, 'tajummal', 24, True]\n",
      "[1, 'tajummal', 24, True]\n",
      "[100, 'tajummal', 24, True]\n",
      "[True, 24, 'tajummal', 100]\n",
      "[0, 5, 45, 45, 78, 154]\n",
      "[0, 5, 45, 45, 78, 154]\n",
      "[0, 5, 45, 555, 45, 78, 154]\n",
      "[True, 24, 'tajummal', 100, 0, 5, 45, 555, 45, 78, 154]\n",
      "[0, 5, 45, 555, 45, 78, 154, 0, 5, 45, 555, 45, 78, 154, 0, 5, 45, 555, 45, 78, 154]\n"
     ]
    }
   ],
   "source": [
    "lis=[1,'tajummal',24,True]\n",
    "print(lis)\n",
    "print(type(lis))\n",
    "\n",
    "#extract ist and last element\n",
    "print(lis[0],lis[-1])\n",
    "\n",
    "#length of a List\n",
    "print(len(lis))\n",
    "\n",
    "#append new data in list\n",
    "lis.append('Islamabad')\n",
    "print(lis)\n",
    "\n",
    "#pop from the list\n",
    "print(lis)\n",
    "lis.pop()\n",
    "print(lis)\n",
    "\n",
    "#update value in a list\n",
    "print(lis)\n",
    "lis[0]=100\n",
    "print(lis)\n",
    "\n",
    "#reverse elements in a list\n",
    "lis.reverse()\n",
    "print(lis)\n",
    "\n",
    "#sort elements in a list\n",
    "lis1=[5,45,78,0,154,45]\n",
    "lis1.sort()\n",
    "print(lis1)\n",
    "\n",
    "#insert elements in a list on specific location\n",
    "print(lis1)\n",
    "lis1.insert(3,555)\n",
    "print(lis1) \n",
    "\n",
    "#list concatinatin\n",
    "print(lis+lis1)\n",
    "\n",
    "#repeating list elements\n",
    "print(lis1*3)"
   ]
  },
  {
   "cell_type": "markdown",
   "metadata": {},
   "source": [
    "# Dictionary\n",
    "unondered collection of key-value pair, \n",
    "inclosed in curly braces {}, \n",
    "mutable:changeable"
   ]
  },
  {
   "cell_type": "code",
   "execution_count": 111,
   "metadata": {},
   "outputs": [
    {
     "name": "stdout",
     "output_type": "stream",
     "text": [
      "{0: 'Tajummal', 1: 'Ali', 2: 'Hussain'}\n",
      "dict_keys([0, 1, 2])\n",
      "dict_values(['Tajummal', 'Ali', 'Hussain'])\n",
      "{0: 'Salman', 1: 'Ali', 2: 'Hussain'}\n",
      "{0: 'Salman', 1: 'Ali', 2: 'Hussain', 3: 'Hassan'}\n",
      "{0: 'Salman', 1: 'Ali', 2: 'Hussain', 3: 'Hassan', 5: 'kaka', 6: 'Mughal'}\n",
      "{0: 'Salman', 1: 'Ali', 2: 'Hussain', 5: 'kaka', 6: 'Mughal'}\n"
     ]
    }
   ],
   "source": [
    "#creating a dictionary (key-value)pair\n",
    "dic={0:'Tajummal',1:'Ali',2:'Hussain'}\n",
    "print(dic)\n",
    "\n",
    "#just printing the keys\n",
    "print(dic.keys())\n",
    "\n",
    "#just printing the values\n",
    "print(dic.values())\n",
    "\n",
    "#update value using key key in []\n",
    "dic[0]='Salman'\n",
    "print(dic)\n",
    "\n",
    "#adding new entry in dictionary\n",
    "dic[3]='Hassan'\n",
    "print(dic)\n",
    "\n",
    "#appending 2 dictionarie\n",
    "dic1={5:'kaka',6:'Mughal'}\n",
    "dic.update(dic1)\n",
    "print(dic)\n",
    "\n",
    "#pop/delected entry using key\n",
    "dic.pop(3)\n",
    "print(dic)"
   ]
  },
  {
   "cell_type": "markdown",
   "metadata": {},
   "source": [
    "# Sets\n",
    "### unodered and unindex collection of data, enclosed in curly braces,duplication not allowed, "
   ]
  },
  {
   "cell_type": "code",
   "execution_count": 124,
   "metadata": {},
   "outputs": [
    {
     "name": "stdout",
     "output_type": "stream",
     "text": [
      "{1, 5, 6}\n",
      "{54, 1, 5, 6}\n",
      "{96, 1, 5, 6, 74, 54, 88, 24}\n",
      "{96, 1, 5, 6, 74, 88, 24}\n",
      "{1, 3, 4, 5, 6, 9} {0, 2, 3, 5, 7, 9, 78}\n",
      "{0, 1, 2, 3, 4, 5, 6, 7, 9, 78}\n",
      "{9, 3, 5}\n"
     ]
    }
   ],
   "source": [
    "#creating set\n",
    "s1={1,5,6}\n",
    "print(s1)\n",
    "\n",
    "#adding new single element, data stored in random order\n",
    "s1.add(54)\n",
    "print(s1)\n",
    "\n",
    "#update set, adding multiple values in set use square [] braces inside small braces\n",
    "s1.update([88,24,96,74])\n",
    "print(s1)\n",
    "\n",
    "#remove element in a set\n",
    "s1.remove(54)\n",
    "print(s1)\n",
    "\n",
    "#union of 2 sets\n",
    "s2={1,3,4,6,5,9}\n",
    "s3={3,2,7,0,9,5,78}\n",
    "print(s2,s3)\n",
    "print(s2.union(s3))\n",
    "\n",
    "#intersection of 2 sets\n",
    "print(s2.intersection(s3))"
   ]
  },
  {
   "cell_type": "code",
   "execution_count": null,
   "metadata": {},
   "outputs": [],
   "source": []
  }
 ],
 "metadata": {
  "kernelspec": {
   "display_name": "Python 3",
   "language": "python",
   "name": "python3"
  },
  "language_info": {
   "codemirror_mode": {
    "name": "ipython",
    "version": 3
   },
   "file_extension": ".py",
   "mimetype": "text/x-python",
   "name": "python",
   "nbconvert_exporter": "python",
   "pygments_lexer": "ipython3",
   "version": "3.7.6"
  }
 },
 "nbformat": 4,
 "nbformat_minor": 4
}
