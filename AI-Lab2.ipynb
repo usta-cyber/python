{
 "cells": [
  {
   "cell_type": "markdown",
   "id": "b3adca55",
   "metadata": {},
   "source": [
    "# PYTHON BASICS -I"
   ]
  },
  {
   "cell_type": "code",
   "execution_count": 1,
   "id": "b06519f2",
   "metadata": {},
   "outputs": [
    {
     "name": "stdout",
     "output_type": "stream",
     "text": [
      "Welcome to Artificial Intelligence\n"
     ]
    }
   ],
   "source": [
    "print('Welcome to Artificial Intelligence')"
   ]
  },
  {
   "cell_type": "code",
   "execution_count": 2,
   "id": "8b713f34",
   "metadata": {},
   "outputs": [
    {
     "name": "stdout",
     "output_type": "stream",
     "text": [
      "Result= 9\n"
     ]
    }
   ],
   "source": [
    "a=3\n",
    "b=6\n",
    "print(\"Result=\",a+b)"
   ]
  },
  {
   "cell_type": "code",
   "execution_count": 3,
   "id": "d361b567",
   "metadata": {},
   "outputs": [
    {
     "data": {
      "text/plain": [
       "int"
      ]
     },
     "execution_count": 3,
     "metadata": {},
     "output_type": "execute_result"
    }
   ],
   "source": [
    "type(a)"
   ]
  },
  {
   "cell_type": "code",
   "execution_count": 4,
   "id": "8af7cecb",
   "metadata": {},
   "outputs": [],
   "source": [
    "a=10\n",
    "b=3.5\n",
    "st='Artificial intelligence'\n",
    "Ok=True\n",
    "comNum=2+3j"
   ]
  },
  {
   "cell_type": "code",
   "execution_count": 5,
   "id": "cd5745c9",
   "metadata": {},
   "outputs": [
    {
     "name": "stdout",
     "output_type": "stream",
     "text": [
      "<class 'int'>\n",
      "<class 'float'>\n",
      "<class 'str'>\n",
      "<class 'bool'>\n",
      "<class 'complex'>\n"
     ]
    }
   ],
   "source": [
    "print(type(a))\n",
    "print(type(b))\n",
    "print(type(st))\n",
    "print(type(Ok))\n",
    "print(type(comNum))"
   ]
  },
  {
   "cell_type": "code",
   "execution_count": 6,
   "id": "186b8cce",
   "metadata": {},
   "outputs": [],
   "source": [
    "S1='Artificial intelligence'\n",
    "S2=\"Artificial intelligence\"\n",
    "S3=''' Welcome \n",
    "        To\n",
    "Artificial intelligence'''"
   ]
  },
  {
   "cell_type": "code",
   "execution_count": 7,
   "id": "54af1838",
   "metadata": {},
   "outputs": [
    {
     "name": "stdout",
     "output_type": "stream",
     "text": [
      "Artificial intelligence\n",
      "Artificial intelligence\n",
      " Welcome \n",
      "        To\n",
      "Artificial intelligence\n"
     ]
    }
   ],
   "source": [
    "print(S1)\n",
    "print(S2)\n",
    "print(S3)"
   ]
  },
  {
   "cell_type": "code",
   "execution_count": 8,
   "id": "a92014dd",
   "metadata": {},
   "outputs": [],
   "source": [
    "a=10\n",
    "b=2"
   ]
  },
  {
   "cell_type": "code",
   "execution_count": 9,
   "id": "ec6b7083",
   "metadata": {},
   "outputs": [
    {
     "name": "stdout",
     "output_type": "stream",
     "text": [
      "Addition: 12\n",
      "Subtraction: 8\n",
      "Multiplication: 20\n",
      "Division: 5.0\n",
      "Modulus: 0\n",
      "Exponent: 100\n",
      "Divide (Floor): 5\n"
     ]
    }
   ],
   "source": [
    "print('Addition:',a+b)\n",
    "print('Subtraction:',a-b)\n",
    "print('Multiplication:',a*b)\n",
    "print('Division:',a/b)\n",
    "print('Modulus:',a%b)\n",
    "print('Exponent:',a**b)\n",
    "print('Divide (Floor):',a//b)"
   ]
  },
  {
   "cell_type": "code",
   "execution_count": 10,
   "id": "23ad3123",
   "metadata": {},
   "outputs": [
    {
     "name": "stdout",
     "output_type": "stream",
     "text": [
      "a Equal b:  False\n",
      "a Not Equal to b:  True\n",
      "a greater then b:  True\n",
      "a less then b:  False\n",
      "a greater then Equal to b:  True\n",
      "a less then Equal to b:  False\n"
     ]
    }
   ],
   "source": [
    "print('a Equal b: ',a==b)\n",
    "print('a Not Equal to b: ',a!=b)\n",
    "print('a greater then b: ',a>b)\n",
    "print('a less then b: ',a<b)\n",
    "print('a greater then Equal to b: ',a>=b)\n",
    "print('a less then Equal to b: ',a<=b)"
   ]
  },
  {
   "cell_type": "code",
   "execution_count": 11,
   "id": "aa52da4e",
   "metadata": {},
   "outputs": [
    {
     "name": "stdout",
     "output_type": "stream",
     "text": [
      "Binary of A=10 0b1010\n",
      "Binary of B=2 0b10\n",
      "Binary AND (&) 0b10\n",
      "Binary OR (|) 0b1010\n",
      "Binary NOT (~) -0b1011\n",
      "Binary XOR (^) 0b1000\n",
      "Binary lEFT SHIFT (<<) 0b10100\n",
      "Binary RIGHT SHIFT (>>)  0b101\n"
     ]
    }
   ],
   "source": [
    "print('Binary of A=10',bin(a))\n",
    "print('Binary of B=2',bin(b))\n",
    "print('Binary AND (&)',bin(a&b))\n",
    "print('Binary OR (|)',bin(a|b))\n",
    "print('Binary NOT (~)',bin(~a))\n",
    "print('Binary XOR (^)',bin(a^b))\n",
    "print('Binary lEFT SHIFT (<<)',bin(a<<1))\n",
    "print('Binary RIGHT SHIFT (>>) ',bin(a>>1))"
   ]
  },
  {
   "cell_type": "code",
   "execution_count": 12,
   "id": "ab13464e",
   "metadata": {},
   "outputs": [
    {
     "name": "stdout",
     "output_type": "stream",
     "text": [
      "Value of A: True\n",
      "Value of B: False\n",
      "A OR B  True\n",
      "A AND B False\n",
      "Not B  True\n"
     ]
    }
   ],
   "source": [
    "a= True\n",
    "b= False\n",
    "print('Value of A:',a)\n",
    "print('Value of B:',b)\n",
    "print('A OR B ',a or b)\n",
    "print('A AND B',a and b)\n",
    "print('Not B ',not(b))"
   ]
  },
  {
   "cell_type": "code",
   "execution_count": 13,
   "id": "92073dc9",
   "metadata": {},
   "outputs": [
    {
     "data": {
      "text/plain": [
       "'Artificial intelligence'"
      ]
     },
     "execution_count": 13,
     "metadata": {},
     "output_type": "execute_result"
    }
   ],
   "source": [
    "S1"
   ]
  },
  {
   "cell_type": "code",
   "execution_count": 14,
   "id": "7d88440f",
   "metadata": {},
   "outputs": [
    {
     "data": {
      "text/plain": [
       "'A'"
      ]
     },
     "execution_count": 14,
     "metadata": {},
     "output_type": "execute_result"
    }
   ],
   "source": [
    "S1[0]"
   ]
  },
  {
   "cell_type": "code",
   "execution_count": 15,
   "id": "366b05fd",
   "metadata": {},
   "outputs": [
    {
     "data": {
      "text/plain": [
       "'e'"
      ]
     },
     "execution_count": 15,
     "metadata": {},
     "output_type": "execute_result"
    }
   ],
   "source": [
    "S1[-1]"
   ]
  },
  {
   "cell_type": "code",
   "execution_count": 16,
   "id": "0eb56586",
   "metadata": {},
   "outputs": [
    {
     "data": {
      "text/plain": [
       "'Artificial'"
      ]
     },
     "execution_count": 16,
     "metadata": {},
     "output_type": "execute_result"
    }
   ],
   "source": [
    "S1[0:10]"
   ]
  },
  {
   "cell_type": "code",
   "execution_count": 17,
   "id": "e67cfbef",
   "metadata": {},
   "outputs": [
    {
     "data": {
      "text/plain": [
       "'Art'"
      ]
     },
     "execution_count": 17,
     "metadata": {},
     "output_type": "execute_result"
    }
   ],
   "source": [
    "S1[0:3]"
   ]
  },
  {
   "cell_type": "code",
   "execution_count": 18,
   "id": "1f6995f4",
   "metadata": {},
   "outputs": [
    {
     "data": {
      "text/plain": [
       "'Artificial intelligence'"
      ]
     },
     "execution_count": 18,
     "metadata": {},
     "output_type": "execute_result"
    }
   ],
   "source": [
    "S1"
   ]
  },
  {
   "cell_type": "code",
   "execution_count": 19,
   "id": "badded0e",
   "metadata": {},
   "outputs": [
    {
     "data": {
      "text/plain": [
       "23"
      ]
     },
     "execution_count": 19,
     "metadata": {},
     "output_type": "execute_result"
    }
   ],
   "source": [
    "len(S1)"
   ]
  },
  {
   "cell_type": "code",
   "execution_count": 20,
   "id": "b39072b0",
   "metadata": {},
   "outputs": [
    {
     "data": {
      "text/plain": [
       "'artificial intelligence'"
      ]
     },
     "execution_count": 20,
     "metadata": {},
     "output_type": "execute_result"
    }
   ],
   "source": [
    "S1.lower()"
   ]
  },
  {
   "cell_type": "code",
   "execution_count": 21,
   "id": "6586935f",
   "metadata": {},
   "outputs": [
    {
     "data": {
      "text/plain": [
       "'ARTIFICIAL INTELLIGENCE'"
      ]
     },
     "execution_count": 21,
     "metadata": {},
     "output_type": "execute_result"
    }
   ],
   "source": [
    "S1.upper()"
   ]
  },
  {
   "cell_type": "code",
   "execution_count": 22,
   "id": "8d26c15c",
   "metadata": {},
   "outputs": [
    {
     "data": {
      "text/plain": [
       "'Artjfjcjal jntelljgence'"
      ]
     },
     "execution_count": 22,
     "metadata": {},
     "output_type": "execute_result"
    }
   ],
   "source": [
    "S1.replace('i','j')"
   ]
  },
  {
   "cell_type": "code",
   "execution_count": 23,
   "id": "42564c29",
   "metadata": {},
   "outputs": [
    {
     "data": {
      "text/plain": [
       "'Artificial Networks'"
      ]
     },
     "execution_count": 23,
     "metadata": {},
     "output_type": "execute_result"
    }
   ],
   "source": [
    "S1.replace('intelligence','Networks')"
   ]
  },
  {
   "cell_type": "code",
   "execution_count": 24,
   "id": "c2c557e8",
   "metadata": {},
   "outputs": [
    {
     "data": {
      "text/plain": [
       "'Artificial intelligence'"
      ]
     },
     "execution_count": 24,
     "metadata": {},
     "output_type": "execute_result"
    }
   ],
   "source": [
    "S1"
   ]
  },
  {
   "cell_type": "code",
   "execution_count": 25,
   "id": "802eb3b3",
   "metadata": {},
   "outputs": [
    {
     "data": {
      "text/plain": [
       "5"
      ]
     },
     "execution_count": 25,
     "metadata": {},
     "output_type": "execute_result"
    }
   ],
   "source": [
    "S1.count('i')"
   ]
  },
  {
   "cell_type": "code",
   "execution_count": 26,
   "id": "a40bfd31",
   "metadata": {},
   "outputs": [
    {
     "data": {
      "text/plain": [
       "3"
      ]
     },
     "execution_count": 26,
     "metadata": {},
     "output_type": "execute_result"
    }
   ],
   "source": [
    "S1.find('i')"
   ]
  },
  {
   "cell_type": "code",
   "execution_count": 27,
   "id": "e4822ee7",
   "metadata": {},
   "outputs": [
    {
     "data": {
      "text/plain": [
       "11"
      ]
     },
     "execution_count": 27,
     "metadata": {},
     "output_type": "execute_result"
    }
   ],
   "source": [
    "S1.find('intel')"
   ]
  },
  {
   "cell_type": "code",
   "execution_count": 28,
   "id": "032b549d",
   "metadata": {},
   "outputs": [
    {
     "data": {
      "text/plain": [
       "9"
      ]
     },
     "execution_count": 28,
     "metadata": {},
     "output_type": "execute_result"
    }
   ],
   "source": [
    "S1.find('l',0,len(S1))"
   ]
  },
  {
   "cell_type": "code",
   "execution_count": 29,
   "id": "691c010b",
   "metadata": {},
   "outputs": [
    {
     "data": {
      "text/plain": [
       "['Artificial', 'intelligence']"
      ]
     },
     "execution_count": 29,
     "metadata": {},
     "output_type": "execute_result"
    }
   ],
   "source": [
    "S1.split(' ')"
   ]
  },
  {
   "cell_type": "code",
   "execution_count": 30,
   "id": "36284015",
   "metadata": {
    "scrolled": true
   },
   "outputs": [
    {
     "data": {
      "text/plain": [
       "['Art', 'f', 'c', 'al ', 'ntell', 'gence']"
      ]
     },
     "execution_count": 30,
     "metadata": {},
     "output_type": "execute_result"
    }
   ],
   "source": [
    "S1.split('i')"
   ]
  },
  {
   "cell_type": "code",
   "execution_count": 31,
   "id": "568878e7",
   "metadata": {},
   "outputs": [
    {
     "data": {
      "text/plain": [
       "['Art', 'f', 'c', 'al ', 'ntell', 'gence']"
      ]
     },
     "execution_count": 31,
     "metadata": {},
     "output_type": "execute_result"
    }
   ],
   "source": [
    "S1.split('i')"
   ]
  },
  {
   "cell_type": "code",
   "execution_count": 32,
   "id": "43a34d7d",
   "metadata": {},
   "outputs": [
    {
     "data": {
      "text/plain": [
       "'********Artificial intelligence*********'"
      ]
     },
     "execution_count": 32,
     "metadata": {},
     "output_type": "execute_result"
    }
   ],
   "source": [
    "S1.center(40,'*')"
   ]
  },
  {
   "cell_type": "code",
   "execution_count": 33,
   "id": "52767d27",
   "metadata": {},
   "outputs": [
    {
     "data": {
      "text/plain": [
       "'Artificial intelligence'"
      ]
     },
     "execution_count": 33,
     "metadata": {},
     "output_type": "execute_result"
    }
   ],
   "source": [
    "S1"
   ]
  },
  {
   "cell_type": "code",
   "execution_count": 34,
   "id": "b6367346",
   "metadata": {},
   "outputs": [
    {
     "data": {
      "text/plain": [
       "True"
      ]
     },
     "execution_count": 34,
     "metadata": {},
     "output_type": "execute_result"
    }
   ],
   "source": [
    "S1.endswith('e')"
   ]
  },
  {
   "cell_type": "code",
   "execution_count": 35,
   "id": "cbcfffaa",
   "metadata": {},
   "outputs": [
    {
     "data": {
      "text/plain": [
       "False"
      ]
     },
     "execution_count": 35,
     "metadata": {},
     "output_type": "execute_result"
    }
   ],
   "source": [
    "S1.endswith('!')"
   ]
  },
  {
   "cell_type": "code",
   "execution_count": 36,
   "id": "f2557793",
   "metadata": {},
   "outputs": [
    {
     "data": {
      "text/plain": [
       "True"
      ]
     },
     "execution_count": 36,
     "metadata": {},
     "output_type": "execute_result"
    }
   ],
   "source": [
    "S1.endswith('e',5,len(S1))"
   ]
  },
  {
   "cell_type": "code",
   "execution_count": 37,
   "id": "9f4b8800",
   "metadata": {},
   "outputs": [
    {
     "data": {
      "text/plain": [
       "True"
      ]
     },
     "execution_count": 37,
     "metadata": {},
     "output_type": "execute_result"
    }
   ],
   "source": [
    "S1.startswith('A')"
   ]
  },
  {
   "cell_type": "code",
   "execution_count": 38,
   "id": "042eb1a0",
   "metadata": {},
   "outputs": [
    {
     "data": {
      "text/plain": [
       "False"
      ]
     },
     "execution_count": 38,
     "metadata": {},
     "output_type": "execute_result"
    }
   ],
   "source": [
    "S1.isdigit()"
   ]
  },
  {
   "cell_type": "code",
   "execution_count": 39,
   "id": "a8effb98",
   "metadata": {},
   "outputs": [
    {
     "data": {
      "text/plain": [
       "False"
      ]
     },
     "execution_count": 39,
     "metadata": {},
     "output_type": "execute_result"
    }
   ],
   "source": [
    "S1.isalpha()"
   ]
  },
  {
   "cell_type": "code",
   "execution_count": 40,
   "id": "892be1e9",
   "metadata": {},
   "outputs": [
    {
     "data": {
      "text/plain": [
       "False"
      ]
     },
     "execution_count": 40,
     "metadata": {},
     "output_type": "execute_result"
    }
   ],
   "source": [
    "s2='AB C'\n",
    "s2.isalpha()"
   ]
  },
  {
   "cell_type": "code",
   "execution_count": 41,
   "id": "3796277d",
   "metadata": {},
   "outputs": [
    {
     "data": {
      "text/plain": [
       "' '"
      ]
     },
     "execution_count": 41,
     "metadata": {},
     "output_type": "execute_result"
    }
   ],
   "source": [
    "min(S1)"
   ]
  },
  {
   "cell_type": "code",
   "execution_count": 42,
   "id": "be80eb51",
   "metadata": {},
   "outputs": [
    {
     "data": {
      "text/plain": [
       "'t'"
      ]
     },
     "execution_count": 42,
     "metadata": {},
     "output_type": "execute_result"
    }
   ],
   "source": [
    "max(S1)"
   ]
  },
  {
   "cell_type": "code",
   "execution_count": 43,
   "id": "6a43799a",
   "metadata": {},
   "outputs": [],
   "source": [
    "name=\"Zayan\""
   ]
  },
  {
   "cell_type": "code",
   "execution_count": 44,
   "id": "b1b96055",
   "metadata": {},
   "outputs": [
    {
     "data": {
      "text/plain": [
       "'Iayan'"
      ]
     },
     "execution_count": 44,
     "metadata": {},
     "output_type": "execute_result"
    }
   ],
   "source": [
    "name.replace('Z','I')"
   ]
  },
  {
   "cell_type": "code",
   "execution_count": 45,
   "id": "ca40f911",
   "metadata": {},
   "outputs": [
    {
     "name": "stdout",
     "output_type": "stream",
     "text": [
      "(1, 2, 3, 4)\n",
      "('A', 'I', 1, 2, 3)\n",
      "('Artificial', 'Intelligence ', 7, 'Fall', 2021)\n"
     ]
    }
   ],
   "source": [
    "tup1=(1,2,3,4)\n",
    "tup2=('A','I',1,2,3)\n",
    "tup3=('Artificial','Intelligence ',7,'Fall',2021)\n",
    "print(tup1)\n",
    "print(tup2)\n",
    "print(tup3)"
   ]
  },
  {
   "cell_type": "code",
   "execution_count": 46,
   "id": "17fe2688",
   "metadata": {},
   "outputs": [
    {
     "data": {
      "text/plain": [
       "('Artificial', 'Intelligence ', 7, 'Fall', 2021)"
      ]
     },
     "execution_count": 46,
     "metadata": {},
     "output_type": "execute_result"
    }
   ],
   "source": [
    "tup3"
   ]
  },
  {
   "cell_type": "code",
   "execution_count": 47,
   "id": "5d9413af",
   "metadata": {},
   "outputs": [
    {
     "name": "stdout",
     "output_type": "stream",
     "text": [
      "('Artificial', 'Intelligence ', 7, 'Fall', 2021)\n",
      "Artificial\n",
      "('Artificial', 'Intelligence ')\n"
     ]
    }
   ],
   "source": [
    "print(tup3)\n",
    "print(tup3[0])\n",
    "print(tup3[0:2])"
   ]
  },
  {
   "cell_type": "code",
   "execution_count": 48,
   "id": "d7d674bc",
   "metadata": {},
   "outputs": [
    {
     "ename": "TypeError",
     "evalue": "'tuple' object does not support item assignment",
     "output_type": "error",
     "traceback": [
      "\u001b[1;31m---------------------------------------------------------------------------\u001b[0m",
      "\u001b[1;31mTypeError\u001b[0m                                 Traceback (most recent call last)",
      "\u001b[1;32m<ipython-input-48-131abc003515>\u001b[0m in \u001b[0;36m<module>\u001b[1;34m\u001b[0m\n\u001b[1;32m----> 1\u001b[1;33m \u001b[0mtup3\u001b[0m\u001b[1;33m[\u001b[0m\u001b[1;36m1\u001b[0m\u001b[1;33m]\u001b[0m\u001b[1;33m=\u001b[0m\u001b[1;34m'Networks'\u001b[0m\u001b[1;33m\u001b[0m\u001b[1;33m\u001b[0m\u001b[0m\n\u001b[0m",
      "\u001b[1;31mTypeError\u001b[0m: 'tuple' object does not support item assignment"
     ]
    }
   ],
   "source": [
    "tup3[1]='Networks'"
   ]
  },
  {
   "cell_type": "code",
   "execution_count": 49,
   "id": "5d24ccbc",
   "metadata": {},
   "outputs": [
    {
     "name": "stdout",
     "output_type": "stream",
     "text": [
      "Tuple contain Elements: 5\n"
     ]
    }
   ],
   "source": [
    "print('Tuple contain Elements:',len(tup3))"
   ]
  },
  {
   "cell_type": "code",
   "execution_count": 50,
   "id": "1761d1d5",
   "metadata": {},
   "outputs": [
    {
     "name": "stdout",
     "output_type": "stream",
     "text": [
      "Tuple contain Elements: 4\n"
     ]
    }
   ],
   "source": [
    "print('Tuple contain Elements:',len((1,2,5,7)))"
   ]
  },
  {
   "cell_type": "code",
   "execution_count": 51,
   "id": "04444b76",
   "metadata": {},
   "outputs": [
    {
     "data": {
      "text/plain": [
       "('Artificial', 'Intelligence ', 7, 'Fall', 2021)"
      ]
     },
     "execution_count": 51,
     "metadata": {},
     "output_type": "execute_result"
    }
   ],
   "source": [
    "tup3"
   ]
  },
  {
   "cell_type": "code",
   "execution_count": 52,
   "id": "5d03a14d",
   "metadata": {},
   "outputs": [
    {
     "data": {
      "text/plain": [
       "4"
      ]
     },
     "execution_count": 52,
     "metadata": {},
     "output_type": "execute_result"
    }
   ],
   "source": [
    "max(tup1)"
   ]
  },
  {
   "cell_type": "code",
   "execution_count": 53,
   "id": "37115fc0",
   "metadata": {},
   "outputs": [
    {
     "name": "stdout",
     "output_type": "stream",
     "text": [
      "Minimum Value 0\n",
      "Maximum Value 8\n"
     ]
    }
   ],
   "source": [
    "print('Minimum Value',min(8,7,5,6,8,0,4,1))\n",
    "print('Maximum Value',max(8,7,5,6,8,0,4,1))"
   ]
  },
  {
   "cell_type": "code",
   "execution_count": 54,
   "id": "d3d11f20",
   "metadata": {},
   "outputs": [
    {
     "name": "stdout",
     "output_type": "stream",
     "text": [
      "(1, 2, 3, 4)\n",
      "('A', 'I', 1, 2, 3)\n",
      "(1, 2, 3, 4, 'A', 'I', 1, 2, 3)\n"
     ]
    }
   ],
   "source": [
    "print(tup1)\n",
    "print(tup2)\n",
    "print(tup1+tup2)"
   ]
  },
  {
   "cell_type": "code",
   "execution_count": 55,
   "id": "e6656b9f",
   "metadata": {},
   "outputs": [
    {
     "name": "stdout",
     "output_type": "stream",
     "text": [
      "(1, 2, 3, 4, 1, 2, 3, 4, 1, 2, 3, 4)\n"
     ]
    }
   ],
   "source": [
    "print(tup1*3)"
   ]
  },
  {
   "cell_type": "code",
   "execution_count": 56,
   "id": "15592828",
   "metadata": {},
   "outputs": [
    {
     "name": "stdout",
     "output_type": "stream",
     "text": [
      "Element 3 in Tuple ? True\n",
      "Element 12 Not in Tuple ? False\n"
     ]
    }
   ],
   "source": [
    "tup=(1,5,8,32,3,4,87,12)\n",
    "print('Element 3 in Tuple ?', 3 in tup)\n",
    "print('Element 12 Not in Tuple ?',12 not in tup)"
   ]
  },
  {
   "cell_type": "code",
   "execution_count": 57,
   "id": "afaee2f2",
   "metadata": {},
   "outputs": [
    {
     "name": "stdout",
     "output_type": "stream",
     "text": [
      "[1, 2, 3, 4]\n",
      "['A', 'I', 1, 2, 3]\n",
      "['Artificial', 'Intelligence ', 7, 'Fall', 2021]\n"
     ]
    }
   ],
   "source": [
    "list1=[1,2,3,4]\n",
    "list2=['A','I',1,2,3]\n",
    "list3=['Artificial','Intelligence ',7,'Fall',2021]\n",
    "print(list1)\n",
    "print(list2)\n",
    "print(list3)"
   ]
  },
  {
   "cell_type": "code",
   "execution_count": 58,
   "id": "848fe20a",
   "metadata": {},
   "outputs": [
    {
     "name": "stdout",
     "output_type": "stream",
     "text": [
      "['Artificial', 'Intelligence ', 7, 'Fall', 2021]\n"
     ]
    }
   ],
   "source": [
    "print(list3)"
   ]
  },
  {
   "cell_type": "code",
   "execution_count": 59,
   "id": "9d91d2d9",
   "metadata": {},
   "outputs": [
    {
     "name": "stdout",
     "output_type": "stream",
     "text": [
      "List First Element Artificial\n",
      "List Last Element 2021\n",
      "Slicing ['Intelligence ', 7, 'Fall']\n",
      "Slicing [7, 'Fall', 2021]\n"
     ]
    }
   ],
   "source": [
    "print('List First Element',list3[0])\n",
    "print('List Last Element',list3[-1])\n",
    "print('Slicing',list3[1:4])\n",
    "print('Slicing',list3[2:])"
   ]
  },
  {
   "cell_type": "code",
   "execution_count": 60,
   "id": "f4def8dc",
   "metadata": {},
   "outputs": [
    {
     "name": "stdout",
     "output_type": "stream",
     "text": [
      "['Artificial', 'Networks', 7, 'Fall', 2021]\n"
     ]
    }
   ],
   "source": [
    "list3[1]='Networks'\n",
    "print(list3)"
   ]
  },
  {
   "cell_type": "code",
   "execution_count": 61,
   "id": "ba9f2893",
   "metadata": {},
   "outputs": [
    {
     "name": "stdout",
     "output_type": "stream",
     "text": [
      "List contain Elements: 5\n"
     ]
    }
   ],
   "source": [
    "print('List contain Elements:',len(list3))"
   ]
  },
  {
   "cell_type": "code",
   "execution_count": 63,
   "id": "71b6dc6b",
   "metadata": {},
   "outputs": [
    {
     "name": "stdout",
     "output_type": "stream",
     "text": [
      "List contain Elements: 6\n"
     ]
    }
   ],
   "source": [
    "print('List contain Elements:',len([1,5,7,8,9,6]))"
   ]
  },
  {
   "cell_type": "code",
   "execution_count": 65,
   "id": "e36f0556",
   "metadata": {},
   "outputs": [
    {
     "ename": "TypeError",
     "evalue": "'<' not supported between instances of 'int' and 'str'",
     "output_type": "error",
     "traceback": [
      "\u001b[1;31m---------------------------------------------------------------------------\u001b[0m",
      "\u001b[1;31mTypeError\u001b[0m                                 Traceback (most recent call last)",
      "\u001b[1;32m<ipython-input-65-215c454a4152>\u001b[0m in \u001b[0;36m<module>\u001b[1;34m\u001b[0m\n\u001b[1;32m----> 1\u001b[1;33m \u001b[0mprint\u001b[0m\u001b[1;33m(\u001b[0m\u001b[1;34m'Minimum Value'\u001b[0m\u001b[1;33m,\u001b[0m\u001b[0mmin\u001b[0m\u001b[1;33m(\u001b[0m\u001b[0mlist3\u001b[0m\u001b[1;33m)\u001b[0m\u001b[1;33m)\u001b[0m\u001b[1;33m\u001b[0m\u001b[1;33m\u001b[0m\u001b[0m\n\u001b[0m",
      "\u001b[1;31mTypeError\u001b[0m: '<' not supported between instances of 'int' and 'str'"
     ]
    }
   ],
   "source": [
    "print('Minimum Value',min(list3))"
   ]
  },
  {
   "cell_type": "code",
   "execution_count": 64,
   "id": "9af19d9a",
   "metadata": {},
   "outputs": [
    {
     "name": "stdout",
     "output_type": "stream",
     "text": [
      "Minimum Value 0\n",
      "Maximum Value 8\n"
     ]
    }
   ],
   "source": [
    "print('Minimum Value',min([8,7,5,6,8,0,4,1]))\n",
    "print('Maximum Value',max([8,7,5,6,8,0,4,1]))"
   ]
  },
  {
   "cell_type": "code",
   "execution_count": 66,
   "id": "87536eee",
   "metadata": {},
   "outputs": [
    {
     "name": "stdout",
     "output_type": "stream",
     "text": [
      "[1, 2, 3, 4]\n",
      "['A', 'I', 1, 2, 3]\n",
      "[1, 2, 3, 4, 'A', 'I', 1, 2, 3]\n"
     ]
    }
   ],
   "source": [
    "print(list1)\n",
    "print(list2)\n",
    "print(list1+list2)"
   ]
  },
  {
   "cell_type": "code",
   "execution_count": 67,
   "id": "04a6feb3",
   "metadata": {},
   "outputs": [
    {
     "name": "stdout",
     "output_type": "stream",
     "text": [
      "[1, 2, 3, 4, 1, 2, 3, 4]\n"
     ]
    }
   ],
   "source": [
    "print(list1*2)"
   ]
  },
  {
   "cell_type": "code",
   "execution_count": 68,
   "id": "5d8ae52f",
   "metadata": {},
   "outputs": [
    {
     "name": "stdout",
     "output_type": "stream",
     "text": [
      "Element 18 in List ? False\n",
      "Element 73 Not in Tuple ? False\n"
     ]
    }
   ],
   "source": [
    "lis=[11,54,8,32,73,84,85,12]\n",
    "print('Element 18 in List ?', 18 in lis)\n",
    "print('Element 73 Not in Tuple ?',73 not in lis)"
   ]
  },
  {
   "cell_type": "code",
   "execution_count": 73,
   "id": "b21c83c6",
   "metadata": {},
   "outputs": [
    {
     "name": "stdout",
     "output_type": "stream",
     "text": [
      "['Artificial', 5, 5, 5, 'Networks', 7, 'Fall', 2021]\n"
     ]
    }
   ],
   "source": [
    "list3.insert(1,5)\n",
    "list3.insert(1,5)\n",
    "list3.insert(1,5)\n",
    "print(list3)"
   ]
  },
  {
   "cell_type": "code",
   "execution_count": 74,
   "id": "a1177b85",
   "metadata": {},
   "outputs": [
    {
     "data": {
      "text/plain": [
       "5"
      ]
     },
     "execution_count": 74,
     "metadata": {},
     "output_type": "execute_result"
    }
   ],
   "source": [
    "list3.pop(1)"
   ]
  },
  {
   "cell_type": "code",
   "execution_count": 75,
   "id": "c358dae1",
   "metadata": {},
   "outputs": [
    {
     "name": "stdout",
     "output_type": "stream",
     "text": [
      "['Artificial', 5, 5, 'Networks', 7, 'Fall', 2021]\n"
     ]
    }
   ],
   "source": [
    "print(list3)"
   ]
  },
  {
   "cell_type": "code",
   "execution_count": 77,
   "id": "236426ce",
   "metadata": {},
   "outputs": [
    {
     "name": "stdout",
     "output_type": "stream",
     "text": [
      "['Artificial', 5, 5, 'Networks', 7, 'Fall', 2021]\n",
      "['Artificial', 5, 5, 7, 'Fall', 2021]\n"
     ]
    }
   ],
   "source": [
    "print(list3)\n",
    "list3.remove('Networks')\n",
    "print(list3)"
   ]
  },
  {
   "cell_type": "code",
   "execution_count": 79,
   "id": "8ad4a0e8",
   "metadata": {},
   "outputs": [
    {
     "name": "stdout",
     "output_type": "stream",
     "text": [
      "['Artificial', 5, 5, 7, 'Fall', 2021]\n",
      "4\n"
     ]
    }
   ],
   "source": [
    "print(list3)\n",
    "print(list3.index('Fall'))"
   ]
  },
  {
   "cell_type": "code",
   "execution_count": 83,
   "id": "b9d91ecd",
   "metadata": {},
   "outputs": [],
   "source": [
    "dict={1:'Enginnering',\n",
    "     2:'Technology',\n",
    "     3:2021}\n",
    "dict={1:'Enginnering' ,2:'Technology',3:2021}"
   ]
  },
  {
   "cell_type": "code",
   "execution_count": 87,
   "id": "354bf19c",
   "metadata": {},
   "outputs": [
    {
     "name": "stdout",
     "output_type": "stream",
     "text": [
      "{1: 'Enginnering', 2: 'Technology', 3: 2021}\n",
      "{1: 'A', 2: 'B', 3: 'C', 4: 'D', 5: 'E'}\n"
     ]
    },
    {
     "data": {
      "text/plain": [
       "dict"
      ]
     },
     "execution_count": 87,
     "metadata": {},
     "output_type": "execute_result"
    }
   ],
   "source": [
    "dict={1:'Enginnering' ,2:'Technology',3:2021}\n",
    "dict2={1:'A' ,2:'B',3:'C',4:'D',5:'E'}\n",
    "print(dict)\n",
    "print(dict2)\n",
    "type(dict)"
   ]
  },
  {
   "cell_type": "code",
   "execution_count": 91,
   "id": "dc523a8a",
   "metadata": {},
   "outputs": [
    {
     "name": "stdout",
     "output_type": "stream",
     "text": [
      "{1: 'Enginnering', 2: 'Technology', 3: 2021}\n",
      "Value of Key 2: Enginnering\n"
     ]
    }
   ],
   "source": [
    "print(dict)\n",
    "print('Value of Key 2:',dict[1])"
   ]
  },
  {
   "cell_type": "code",
   "execution_count": 93,
   "id": "22da4852",
   "metadata": {},
   "outputs": [
    {
     "name": "stdout",
     "output_type": "stream",
     "text": [
      "dict_items([(1, 'Enginnering'), (2, 'Technology'), (3, 2021)])\n"
     ]
    }
   ],
   "source": [
    "print(dict.items())"
   ]
  },
  {
   "cell_type": "code",
   "execution_count": 94,
   "id": "bd932705",
   "metadata": {},
   "outputs": [
    {
     "name": "stdout",
     "output_type": "stream",
     "text": [
      "dict_values(['Enginnering', 'Technology', 2021])\n"
     ]
    }
   ],
   "source": [
    "print(dict.values())"
   ]
  },
  {
   "cell_type": "code",
   "execution_count": 95,
   "id": "68a7910f",
   "metadata": {},
   "outputs": [
    {
     "name": "stdout",
     "output_type": "stream",
     "text": [
      "dict_keys([1, 2, 3])\n"
     ]
    }
   ],
   "source": [
    "print(dict.keys())"
   ]
  },
  {
   "cell_type": "code",
   "execution_count": 109,
   "id": "49c5bc81",
   "metadata": {},
   "outputs": [
    {
     "name": "stdout",
     "output_type": "stream",
     "text": [
      "{1: 'Enginnering', 2: 'Technology', 3: 2021}\n",
      "{'A': 'Apple', 5: 'Ball', 6: 'Cat', 7: 'Dog'}\n",
      "{1: 'Enginnering', 2: 'Technology', 3: 2021, 'A': 'Apple', 5: 'Ball', 6: 'Cat', 7: 'Dog'}\n"
     ]
    }
   ],
   "source": [
    "dict={1:'Enginnering' ,2:'Technology',3:2021}\n",
    "dict2={'A':'Apple' ,5:'Ball',6:'Cat',7:'Dog'}\n",
    "print(dict)\n",
    "print(dict2)\n",
    "dict.update(dict2)\n",
    "print(dict)"
   ]
  },
  {
   "cell_type": "code",
   "execution_count": 103,
   "id": "f89d111c",
   "metadata": {},
   "outputs": [
    {
     "name": "stdout",
     "output_type": "stream",
     "text": [
      "updated dict :  {'Name': 'Zara', 'Age': 7, 'Sex': 'female'}\n"
     ]
    }
   ],
   "source": [
    "dict = {'Name': 'Zara', 'Age': 7}\n",
    "dict2 = {'Sex': 'female' }\n",
    "dict.update(dict2)\n",
    "print (\"updated dict : \", dict)"
   ]
  },
  {
   "cell_type": "code",
   "execution_count": 111,
   "id": "94cd2aba",
   "metadata": {},
   "outputs": [
    {
     "name": "stdout",
     "output_type": "stream",
     "text": [
      "{'A': 'Apple', 5: 'Ball', 6: 'Cat', 7: 'Dog'}\n",
      "{'A': 'Apple', 5: 'Ball', 6: 'Cat', 7: 'Dog'}\n"
     ]
    }
   ],
   "source": [
    "print(dict2)\n",
    "new_copy=dict2.copy()\n",
    "print(new_copy)"
   ]
  },
  {
   "cell_type": "code",
   "execution_count": 1,
   "id": "4443334d",
   "metadata": {},
   "outputs": [],
   "source": [
    "s1={1,2,4,5}\n",
    "s2={1,2,5,\"AI\"}\n",
    "s3={'AI','Computer','Engineering'}"
   ]
  },
  {
   "cell_type": "code",
   "execution_count": 2,
   "id": "1115480b",
   "metadata": {},
   "outputs": [
    {
     "name": "stdout",
     "output_type": "stream",
     "text": [
      "{1, 2, 4, 5}\n",
      "{1, 2, 5, 'AI'}\n",
      "{'AI', 'Computer', 'Engineering'}\n"
     ]
    }
   ],
   "source": [
    "print(s1)\n",
    "print(s2)\n",
    "print(s3)"
   ]
  },
  {
   "cell_type": "code",
   "execution_count": 3,
   "id": "c16ed4bf",
   "metadata": {},
   "outputs": [
    {
     "name": "stdout",
     "output_type": "stream",
     "text": [
      "{1, 2, 4, 5}\n",
      "{1, 2, 5, 'AI'}\n",
      "{'AI', 'Computer', 'Engineering'}\n",
      "{1, 2, 3, 4, 6, 7}\n"
     ]
    }
   ],
   "source": [
    "s1={1,2,4,5}\n",
    "s2={1,2,5,\"AI\"}\n",
    "s3={'AI','Computer','Engineering'}\n",
    "s4={1,1,2,4,2,1,3,7,6,}\n",
    "print(s1)\n",
    "print(s2)\n",
    "print(s3)\n",
    "print(s4)"
   ]
  },
  {
   "cell_type": "code",
   "execution_count": 6,
   "id": "660115b7",
   "metadata": {},
   "outputs": [
    {
     "name": "stdout",
     "output_type": "stream",
     "text": [
      "Type of S1:  <class 'set'>  Length of S1:  4\n",
      "Type of S2  <class 'set'>  Length of S2  4\n",
      "Type of S3  <class 'set'>  Length of S3  3\n",
      "Type of S4  <class 'set'>  Length of S4 6\n"
     ]
    }
   ],
   "source": [
    "s1={1,2,4,5}\n",
    "s2={1,2,5,\"AI\"}\n",
    "s3={'AI','Computer','Engineering'}\n",
    "s4={1,1,2,4,2,1,3,7,6,}\n",
    "print('Type of S1: ',type(s1),' Length of S1: ',len(s1))\n",
    "print('Type of S2 ',type(s2),' Length of S2 ',len(s2))\n",
    "print('Type of S3 ',type(s3),' Length of S3 ',len(s3))\n",
    "print('Type of S4 ',type(s4), ' Length of S4',len(s4))"
   ]
  },
  {
   "cell_type": "code",
   "execution_count": 9,
   "id": "a4595439",
   "metadata": {},
   "outputs": [
    {
     "name": "stdout",
     "output_type": "stream",
     "text": [
      "{1, 2, 4, 5}\n",
      "{1, 2, 4, 5, 6}\n"
     ]
    }
   ],
   "source": [
    "s1={1,2,4,5}\n",
    "print(s1)\n",
    "s1.add(6)\n",
    "print(s1)"
   ]
  },
  {
   "cell_type": "code",
   "execution_count": 10,
   "id": "b6674a45",
   "metadata": {},
   "outputs": [
    {
     "name": "stdout",
     "output_type": "stream",
     "text": [
      "{1, 2, 4, 5, 6}\n",
      "{1, 2, 4, 6}\n"
     ]
    }
   ],
   "source": [
    "print(s1)\n",
    "s1.remove(5)\n",
    "print(s1)"
   ]
  },
  {
   "cell_type": "code",
   "execution_count": 11,
   "id": "072041be",
   "metadata": {},
   "outputs": [
    {
     "name": "stdout",
     "output_type": "stream",
     "text": [
      "{1, 2, 4, 5, 8, 12}\n"
     ]
    }
   ],
   "source": [
    "s1={1,2,4,5}\n",
    "s2={4,8,5,12,4}\n",
    "print(s1.union(s2))"
   ]
  },
  {
   "cell_type": "code",
   "execution_count": 12,
   "id": "856ead48",
   "metadata": {},
   "outputs": [
    {
     "name": "stdout",
     "output_type": "stream",
     "text": [
      "{4, 5}\n"
     ]
    }
   ],
   "source": [
    "s1={1,2,4,5}\n",
    "s2={4,8,5,12,4}\n",
    "print(s1.intersection(s2))"
   ]
  },
  {
   "cell_type": "code",
   "execution_count": 13,
   "id": "5cbfa06d",
   "metadata": {},
   "outputs": [
    {
     "name": "stdout",
     "output_type": "stream",
     "text": [
      "Yes A is 10\n"
     ]
    }
   ],
   "source": [
    "A=10\n",
    "if A==10:\n",
    "    print('Yes A is 10')"
   ]
  },
  {
   "cell_type": "code",
   "execution_count": 16,
   "id": "66f079f4",
   "metadata": {},
   "outputs": [
    {
     "name": "stdout",
     "output_type": "stream",
     "text": [
      "Yes, Value of A is present in The Tuple\n"
     ]
    }
   ],
   "source": [
    "tup=(1,4,1,7,12,4,10,14,7,75)\n",
    "A=10\n",
    "\n",
    "if A in tup:\n",
    "    print(\"Yes, Value of A is present in The Tuple\")\n",
    "\n",
    "  "
   ]
  },
  {
   "cell_type": "code",
   "execution_count": 17,
   "id": "5fe1e7f6",
   "metadata": {},
   "outputs": [
    {
     "name": "stdout",
     "output_type": "stream",
     "text": [
      "No, A is 10\n"
     ]
    }
   ],
   "source": [
    "A=9\n",
    "if A==10:\n",
    "    print('Yes A is 10')\n",
    "else:\n",
    "    print('No, A is 10')\n"
   ]
  },
  {
   "cell_type": "code",
   "execution_count": 18,
   "id": "ee06b0c4",
   "metadata": {},
   "outputs": [
    {
     "name": "stdout",
     "output_type": "stream",
     "text": [
      "Yes, A is equal to 9\n"
     ]
    }
   ],
   "source": [
    "A=9\n",
    "if A>9:\n",
    "    print('No, A is Not Greater then 10')\n",
    "elif A==9:\n",
    "    print('Yes, A is equal to 9')\n",
    "else:\n",
    "     print('A is Less then 9')"
   ]
  },
  {
   "cell_type": "code",
   "execution_count": null,
   "id": "68b54dc5",
   "metadata": {},
   "outputs": [],
   "source": []
  }
 ],
 "metadata": {
  "kernelspec": {
   "display_name": "Python 3",
   "language": "python",
   "name": "python3"
  },
  "language_info": {
   "codemirror_mode": {
    "name": "ipython",
    "version": 3
   },
   "file_extension": ".py",
   "mimetype": "text/x-python",
   "name": "python",
   "nbconvert_exporter": "python",
   "pygments_lexer": "ipython3",
   "version": "3.8.8"
  }
 },
 "nbformat": 4,
 "nbformat_minor": 5
}
